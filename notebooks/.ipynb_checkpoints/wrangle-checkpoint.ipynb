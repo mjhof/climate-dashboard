{
 "cells": [
  {
   "cell_type": "markdown",
   "id": "ba5849c8-1e3d-41e2-b9cc-ea1d7cf9ce61",
   "metadata": {},
   "source": [
    "# Wrangle\n",
    "In this notebook, we will gain a first overview of our data and wrangle it to make it usable for further analysis and modeling. "
   ]
  },
  {
   "cell_type": "markdown",
   "id": "70372c6d-e8e5-4cbf-98d2-503aac3d3b11",
   "metadata": {},
   "source": [
    "## Imports"
   ]
  },
  {
   "cell_type": "code",
   "execution_count": 13,
   "id": "49db61f5-8177-45eb-9fae-a80637d411fa",
   "metadata": {},
   "outputs": [],
   "source": [
    "import os\n",
    "from tqdm import tqdm\n",
    "import pandas as pd"
   ]
  },
  {
   "cell_type": "markdown",
   "id": "9fb54936-e7e9-42f1-95b7-f254b5d15ded",
   "metadata": {},
   "source": [
    "## Constants"
   ]
  },
  {
   "cell_type": "code",
   "execution_count": 4,
   "id": "5625aaed-c029-436c-8850-166947cc7c5b",
   "metadata": {},
   "outputs": [],
   "source": [
    "RAW_DATA_PATH = \"../data/raw/\"\n",
    "METEO_DATA_PATH = os.path.join(RAW_DATA_PATH, \"gsoy\")"
   ]
  },
  {
   "cell_type": "markdown",
   "id": "bb63326c-5a4c-46fa-88e5-facbf053870b",
   "metadata": {},
   "source": [
    "# 1. Meteorological data\n",
    "The data source is the [National Centers for Enviromental Information](https://www.ncei.noaa.gov/metadata/geoportal/rest/metadata/item/gov.noaa.ncdc:C00947/html) and contains 58 meteorological variables on a yearly frequency for locations worldwide."
   ]
  },
  {
   "cell_type": "markdown",
   "id": "b293bbe6-2c62-49c7-8874-fbfba933845f",
   "metadata": {},
   "source": [
    "## 1.1 Load data\n",
    "The dataset contains multiple CSV files from different weather stations. We will first of all load all of those files and combine them to one data frame."
   ]
  },
  {
   "cell_type": "code",
   "execution_count": null,
   "id": "a34403dc-e3c4-4c59-bff6-f66d63222a74",
   "metadata": {},
   "outputs": [
    {
     "name": "stdout",
     "output_type": "stream",
     "text": [
      "../data/raw/gsoy contains 82292 CSV files.\n"
     ]
    },
    {
     "name": "stderr",
     "output_type": "stream",
     "text": [
      " 89%|███████████████████████████████▊    | 72848/82292 [03:37<00:32, 293.17it/s]"
     ]
    }
   ],
   "source": [
    "meteo_csv_files = list(\n",
    "    filter(lambda fname: fname.endswith(\".csv\"), os.listdir(METEO_DATA_PATH))\n",
    ")\n",
    "\n",
    "print(f\"{METEO_DATA_PATH} contains {len(meteo_csv_files)} CSV files.\")\n",
    "\n",
    "meteo_dfs = []\n",
    "for fname in tqdm(meteo_csv_files, total=len(meteo_csv_files)):\n",
    "    tmp_df = pd.read_csv(os.path.join(METEO_DATA_PATH, fname))\n",
    "    meteo_dfs.append(tmp_df)\n",
    "    \n",
    "meteo_df_full = pd.concat(meteo_dfs)"
   ]
  },
  {
   "cell_type": "markdown",
   "id": "35a82df9-b6f2-42a8-8ed3-ab4870685c39",
   "metadata": {
    "jp-MarkdownHeadingCollapsed": true,
    "tags": []
   },
   "source": [
    "# 2. Enviromental and economical variables\n",
    "and the [National Centers for Enviromental Information](https://www.ncei.noaa.gov/metadata/geoportal/rest/metadata/item/gov.noaa.ncdc:C00947/html)."
   ]
  }
 ],
 "metadata": {
  "kernelspec": {
   "display_name": "Python [conda env:climate-dashboard]",
   "language": "python",
   "name": "conda-env-climate-dashboard-py"
  },
  "language_info": {
   "codemirror_mode": {
    "name": "ipython",
    "version": 3
   },
   "file_extension": ".py",
   "mimetype": "text/x-python",
   "name": "python",
   "nbconvert_exporter": "python",
   "pygments_lexer": "ipython3",
   "version": "3.9.15"
  }
 },
 "nbformat": 4,
 "nbformat_minor": 5
}
